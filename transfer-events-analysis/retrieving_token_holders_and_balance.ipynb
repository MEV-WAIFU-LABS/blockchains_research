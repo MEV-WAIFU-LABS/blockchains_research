{
 "cells": [
  {
   "cell_type": "markdown",
   "id": "7798b3c1",
   "metadata": {},
   "source": [
    "# Transfer events analysis through Infura's `eth_getLogs`"
   ]
  },
  {
   "cell_type": "markdown",
   "id": "19fb6516",
   "metadata": {},
   "source": [
    "In this notebook, we leverage a [RPC provider URL](https://github.com/arddluma/awesome-list-rpc-nodes-providers) to extract the following information from a given ERC20 token:\n",
    "\n",
    "1. transfer event logs\n",
    "2. wallets holding the token and their balances\n",
    "\n",
    "💡 **Please add env info and the public address list to the `.env` file.**"
   ]
  },
  {
   "cell_type": "markdown",
   "id": "86e1739e",
   "metadata": {},
   "source": [
    "### Installing dependencies"
   ]
  },
  {
   "cell_type": "code",
   "execution_count": null,
   "id": "df03d05c",
   "metadata": {},
   "outputs": [],
   "source": [
    "import os\n",
    "import requests\n",
    "from pathlib import Path\n",
    "from decimal import Decimal\n",
    "from dotenv import load_dotenv\n",
    "from collections import defaultdict"
   ]
  },
  {
   "cell_type": "markdown",
   "id": "a03feb57",
   "metadata": {},
   "source": [
    "<br>\n",
    "\n",
    "### Util methods "
   ]
  },
  {
   "cell_type": "code",
   "execution_count": null,
   "id": "a4780ee6",
   "metadata": {},
   "outputs": [],
   "source": [
    "def get_env():\n",
    "    \"\"\"Load environment variables from .env file\"\"\"\n",
    "\n",
    "    load_dotenv()\n",
    "    env_path = Path('.')/'.env'\n",
    "    load_dotenv(dotenv_path=env_path)\n",
    "\n",
    "    env_data = {}\n",
    "    env_data['RPC_PROVIDER_URL'] = os.getenv(\"RPC_PROVIDER_URL\")\n",
    "    env_data['CHUNK_SIZE'] = os.getenv(\"CHUNK_SIZE\")\n",
    "    env_data['NUM_ATTEMPTS'] = os.getenv(\"NUM_ATTEMPTS\")\n",
    "    env_data['TRANSFER_EVENT_TOPIC_HASH'] = os.getenv(\"TRANSFER_EVENT_TOPIC_HASH\")\n",
    "    env_data['TOKEN_ADDRESS'] = os.getenv(\"TOKEN_ADDRESS\")\n",
    "    env_data['DECIMALS'] = os.getenv(\"DECIMALS\")\n",
    "\n",
    "    if not (bool(env_data['RPC_PROVIDER_URL']) or bool(env_data['CHUNK_SIZE']) or \\\n",
    "            bool(env_data['NUM_ATTEMPTS']) or bool(env_data['TRANSFER_EVENT_TOPIC_HASH']) or \\\n",
    "            bool(env_data['TOKEN_ADDRESS']) or bool(env_data['DECIMALS'])):\n",
    "        raise Exception('Please add config to .env file')\n",
    "\n",
    "    return env_data"
   ]
  },
  {
   "cell_type": "code",
   "execution_count": null,
   "id": "b208380c",
   "metadata": {},
   "outputs": [],
   "source": [
    "def convert_hex_to_int(hex_string: str) -> int:\n",
    "    \"\"\"Convert a hex string to an integer\"\"\"\n",
    "\n",
    "    return int(hex_string, 16)"
   ]
  },
  {
   "cell_type": "code",
   "execution_count": null,
   "id": "72e4d180",
   "metadata": {},
   "outputs": [],
   "source": [
    "def send_rpc_request(url, method, params=None) -> dict:\n",
    "    \"\"\"Send a JSON-RPC request to a given URL\"\"\"\n",
    "    \n",
    "    params = params or []\n",
    "    data = {'jsonrpc': '2.0', 'method': method, 'params': params, 'id': 1}\n",
    "\n",
    "    try:\n",
    "        response = requests.post(url, headers={'Content-Type': 'application/json'}, json=data)\n",
    "        if response.status_code == 200:\n",
    "            return response.json()['result']\n",
    "        else:\n",
    "            print('Query failed: {}.'.format(response.status_code))\n",
    "\n",
    "    except requests.exceptions.HTTPError  as e:\n",
    "        print('Error querying to {0}: {1}'.format(url, e.response.text))    \n",
    "    \n",
    "    except KeyError:\n",
    "        print('Error querying to {0}: data not valid'.format(url))"
   ]
  },
  {
   "cell_type": "markdown",
   "id": "d9ad02d1",
   "metadata": {},
   "source": [
    "<br>\n",
    "\n",
    "### Infura API methods"
   ]
  },
  {
   "cell_type": "code",
   "execution_count": null,
   "id": "2843ef26",
   "metadata": {},
   "outputs": [],
   "source": [
    "def get_logs(address: str, from_block: int, to_block: int, topic: str, url: str) -> list:\n",
    "    \"\"\"Get logs from a given address between two blocks\"\"\"\n",
    "\n",
    "    # https://docs.infura.io/infura/networks/ethereum/json-rpc-methods/eth_getlogs\n",
    "    method = 'eth_getLogs'\n",
    "    print(f'loading blocks {from_block} to {to_block}')\n",
    "    \n",
    "    return send_rpc_request(url, method,\n",
    "                    [{'address': address, \n",
    "                    'fromBlock': from_block,\n",
    "                    'toBlock': to_block, \n",
    "                    'topics': [topic]\n",
    "                    }])"
   ]
  },
  {
   "cell_type": "code",
   "execution_count": null,
   "id": "648b99fb",
   "metadata": {},
   "outputs": [],
   "source": [
    "def get_last_block_number(url: str) -> int:\n",
    "    \"\"\"Get the last block number\"\"\"\n",
    "    \n",
    "    # https://docs.infura.io/infura/networks/ethereum/json-rpc-methods/eth_blocknumber\n",
    "    method = 'eth_blockNumber'\n",
    "    return convert_hex_to_int(send_rpc_request(url, method))"
   ]
  },
  {
   "cell_type": "markdown",
   "id": "45e02165",
   "metadata": {},
   "source": [
    "<br>\n",
    "\n",
    "### Logic methods"
   ]
  },
  {
   "cell_type": "code",
   "execution_count": null,
   "id": "1ac0abb0",
   "metadata": {},
   "outputs": [],
   "source": [
    "def get_transfer_logs(env_data: dict, address: str, decimals: int, \n",
    "                            from_block=None, to_block=None, skip_chunks=False) -> list:\n",
    "    \"\"\"Get transfer logs from a given address between two blocks\"\"\"\n",
    "\n",
    "    from_block = from_block or 1\n",
    "    to_block = to_block or get_last_block_number(url)\n",
    "    topic = env_data['TRANSFER_EVENT_TOPIC_HASH']\n",
    "    url = env_data['RPC_PROVIDER_URL']\n",
    "\n",
    "    #################################\n",
    "    # retrieve event logs by chunks\n",
    "    #################################\n",
    "    if not skip_chunks:\n",
    "        \n",
    "        logs = []\n",
    "        c_size = int(env_data['CHUNK_SIZE'])\n",
    "        attempts = int(env_data['NUM_ATTEMPTS'])\n",
    "\n",
    "        for block in range(from_block, to_block, c_size):\n",
    "            attempt = 0\n",
    "            while attempt < attempts:\n",
    "                try:\n",
    "                    logs += get_logs(address, hex(block), hex(block + c_size), topic, url)\n",
    "                    break\n",
    "                except Exception:\n",
    "                    attempt += 1\n",
    "\n",
    "    #################################\n",
    "    # retrieve event logs in one go\n",
    "    #################################\n",
    "    else:\n",
    "        logs = get_logs(address, hex(from_block), hex(to_block), topic, url)\n",
    "\n",
    "    return logs"
   ]
  },
  {
   "cell_type": "code",
   "execution_count": null,
   "id": "ad9e5e08",
   "metadata": {},
   "outputs": [],
   "source": [
    "def ged_processed_logs(logs: list, decimals: int) -> list:\n",
    "    \"\"\"Process logs to get from, to and amount\"\"\"\n",
    "\n",
    "    decimal =  Decimal('10') ** Decimal(f'-{decimals}')\n",
    "    processed_logs =  defaultdict()\n",
    "\n",
    "    try:\n",
    "        for log in logs:\n",
    "            processed_logs[log['transactionHash']] = {}\n",
    "            processed_logs[log['transactionHash']]['blockNumber'] = log['blockNumber']\n",
    "            processed_logs[log['transactionHash']]['from'] = '0x' + log['topics'][1][26:]\n",
    "            processed_logs[log['transactionHash']]['to'] = '0x' + log['topics'][2][26:]\n",
    "            processed_logs[log['transactionHash']]['amount'] = Decimal(convert_hex_to_int(log['data'])) * decimal\n",
    "    except KeyError as e:\n",
    "        print(f'Error processing logs: {e}')\n",
    "        \n",
    "    return processed_logs"
   ]
  },
  {
   "cell_type": "code",
   "execution_count": null,
   "id": "2e318c11",
   "metadata": {},
   "outputs": [],
   "source": [
    "def get_balances(transfers: list) -> list:\n",
    "    \"\"\"Get balances of all addresses that have received tokens\"\"\"\n",
    "\n",
    "    balances = defaultdict(Decimal)\n",
    "\n",
    "    for _, transfer_data in transfers.items():\n",
    "        balances[transfer_data['from']] -= transfer_data['amount']\n",
    "        balances[transfer_data['to']] += transfer_data['amount']\n",
    "\n",
    "    balances = [{'address': k, 'amount': v} for k, v in balances.items() if v > Decimal('0')]\n",
    "    return sorted(balances, key=lambda x: -abs(Decimal(x['amount'])))"
   ]
  },
  {
   "cell_type": "markdown",
   "id": "e798ee99",
   "metadata": {},
   "source": [
    "We are now ready to retrieve the data."
   ]
  },
  {
   "cell_type": "code",
   "execution_count": null,
   "id": "28f767bf",
   "metadata": {},
   "outputs": [],
   "source": [
    "env_data = get_env()\n",
    "    \n",
    "address = env_data['TOKEN_ADDRESS']\n",
    "decimals = env_data['DECIMALS']\n",
    "\n",
    "transfer_logs = get_transfer_logs(env_data, address, decimals, from_block=16801268, to_block=16807268, skip_chunks=True)\n",
    "processed_logs = ged_processed_logs(transfer_logs, decimals)\n",
    "balances = get_balances(processed_logs)\n",
    "\n",
    "for balance in balances:\n",
    "    print(f'{balance[\"address\"]} has {balance[\"amount\"]} tokens')"
   ]
  }
 ],
 "metadata": {
  "kernelspec": {
   "display_name": "Python 3 (ipykernel)",
   "language": "python",
   "name": "python3"
  },
  "language_info": {
   "codemirror_mode": {
    "name": "ipython",
    "version": 3
   },
   "file_extension": ".py",
   "mimetype": "text/x-python",
   "name": "python",
   "nbconvert_exporter": "python",
   "pygments_lexer": "ipython3",
   "version": "3.11.1"
  }
 },
 "nbformat": 4,
 "nbformat_minor": 5
}

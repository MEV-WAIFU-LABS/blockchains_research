{
 "cells": [
  {
   "cell_type": "markdown",
   "id": "7798b3c1",
   "metadata": {},
   "source": [
    "# Leveraging Uniswap subgraph to extract token pair information"
   ]
  },
  {
   "cell_type": "markdown",
   "id": "19fb6516",
   "metadata": {},
   "source": [
    "We use **The Graph Explore** to access Uniswap subgraph and analyze the data related to UNI and WETH token pair. "
   ]
  },
  {
   "cell_type": "markdown",
   "id": "86e1739e",
   "metadata": {},
   "source": [
    "### Install dependencies"
   ]
  },
  {
   "cell_type": "code",
   "execution_count": 31,
   "id": "df03d05c",
   "metadata": {},
   "outputs": [],
   "source": [
    "import requests\n",
    "import pandas as pd\n",
    "import numpy as np\n",
    "import seaborn as sns\n",
    "import matplotlib.pyplot as plt"
   ]
  },
  {
   "cell_type": "markdown",
   "id": "a85668fe",
   "metadata": {},
   "source": [
    "### Define global variables"
   ]
  },
  {
   "cell_type": "code",
   "execution_count": 32,
   "id": "c7623973",
   "metadata": {},
   "outputs": [],
   "source": [
    "ENDPOINT = 'https://api.thegraph.com/subgraphs/name/uniswap/uniswap-v2'"
   ]
  },
  {
   "cell_type": "markdown",
   "id": "a03feb57",
   "metadata": {},
   "source": [
    "### Define private methods for querying"
   ]
  },
  {
   "cell_type": "code",
   "execution_count": 33,
   "id": "72e4d180",
   "metadata": {},
   "outputs": [],
   "source": [
    "def _send_request(query, args=None):\n",
    "    '''Make an API call to a given endpoint str, given a query str'''\n",
    "\n",
    "    data = {'query': query, 'variables': args}\n",
    "    \n",
    "    try:\n",
    "        r = requests.post(ENDPOINT, json=data)\n",
    "    except requests.exceptions.HTTPError  as e:\n",
    "        raise Exception('Error sending a request to {0}: {1}'.format(ENDPOINT, e.response.text))\n",
    "    \n",
    "    if r.status_code == 200:\n",
    "        return r.json()\n",
    "    else:\n",
    "        raise Exception('Query failed - return code:{}.'.format(r.status_code))"
   ]
  },
  {
   "cell_type": "code",
   "execution_count": 34,
   "id": "d4d8c797",
   "metadata": {},
   "outputs": [],
   "source": [
    " def _sanitize(response, key):\n",
    "    '''Make sure the response dict can be parsed'''\n",
    "    \n",
    "    try:\n",
    "        return response[key]\n",
    "    except KeyError as e:\n",
    "         raise Exception('Response cannot be parsed.'.format(e))"
   ]
  },
  {
   "cell_type": "code",
   "execution_count": 35,
   "id": "bfc756fc",
   "metadata": {},
   "outputs": [],
   "source": [
    "def _parse_token_list(response):\n",
    "    '''Parse a response from the API request'''\n",
    "    \n",
    "    id_list = _sanitize(_sanitize(response, 'data'), 'tokens')\n",
    "    \n",
    "    token_list = []\n",
    "    for id_item in id_list:\n",
    "        token_list.append(id_item['id'])\n",
    "    \n",
    "    return token_list"
   ]
  },
  {
   "cell_type": "markdown",
   "id": "50bd97b9",
   "metadata": {},
   "source": [
    "### Query to find all token IDs for $UNI"
   ]
  },
  {
   "cell_type": "code",
   "execution_count": 36,
   "id": "892e20d5",
   "metadata": {},
   "outputs": [
    {
     "data": {
      "text/plain": [
       "['0x0478d05f4960fa5c7880a6346a5dd10d894e87ef',\n",
       " '0x1f9840a85d5af5bf1d1762f925bdaddc4201f984',\n",
       " '0x24382731129c7b77cf1fb744e509e32572fa4a45',\n",
       " '0x2730d6fdc86c95a74253beffaa8306b40fedecbb',\n",
       " '0x3158e7fdfeacd9cb6744fb922f68d83321c0da64',\n",
       " '0x3e370a6c8255b065bd42bc0ac9255b269cfcc172',\n",
       " '0x41870c93bc97221a741f955586bef5cfcfa186fa',\n",
       " '0x5644b9eed6f578c820e6fa500b3c9f21d22347d8',\n",
       " '0x8a3afc69b947b9368af68104fa3ac512b58b930e',\n",
       " '0x8b16acf50051bb6efd68bdf35099b798db0ff4b7',\n",
       " '0x907455194480175560b05a405f47d298cb19b21d',\n",
       " '0x9629aa8ce8e61004952ab619d683576f4ec5478b',\n",
       " '0xcae516aa57d04ebf9b92813050282333f7587d2f',\n",
       " '0xebfee807881a0258311aeae07e2e3ae49aa41f29',\n",
       " '0xf17785cce27f0d33b82739ee20abd57298caa88a']"
      ]
     },
     "execution_count": 36,
     "metadata": {},
     "output_type": "execute_result"
    }
   ],
   "source": [
    "def get_UNI_ids():\n",
    "    '''Request UNI token id list and return a parsed list of the result'''\n",
    "    \n",
    "    query = \"\"\"\n",
    "    {\n",
    "      tokens(where:{symbol:\"UNI\"}){\n",
    "        id\n",
    "      }\n",
    "    }\n",
    "    \"\"\"\n",
    "    return _parse_token_list(_send_request(query))\n",
    "\n",
    "\n",
    "get_UNI_ids()"
   ]
  },
  {
   "cell_type": "markdown",
   "id": "14a51693",
   "metadata": {},
   "source": [
    "### Query to find all token IDs for $WETH"
   ]
  },
  {
   "cell_type": "code",
   "execution_count": 37,
   "id": "d33adb11",
   "metadata": {},
   "outputs": [
    {
     "data": {
      "text/plain": [
       "['0x00965af6ddfd9171961e53f9f955c47521067ccc',\n",
       " '0x477b466750c31c890db3208816d60c8585be7f0e',\n",
       " '0xc02aaa39b223fe8d0a0e5c4f27ead9083c756cc2',\n",
       " '0xd73d6d4c463df976399acd80ea338384e247c64b']"
      ]
     },
     "execution_count": 37,
     "metadata": {},
     "output_type": "execute_result"
    }
   ],
   "source": [
    "def get_WETH_ids():\n",
    "    ''' Request WETH token id list and return a parsed list of the result'''\n",
    "    \n",
    "    query = \"\"\"\n",
    "    {\n",
    "      tokens(where:{symbol:\"WETH\"}){\n",
    "        id\n",
    "      }\n",
    "    }\n",
    "    \"\"\"\n",
    "    return _parse_token_list(_send_request(query))\n",
    "\n",
    "\n",
    "get_WETH_ids()"
   ]
  },
  {
   "cell_type": "markdown",
   "id": "bd3eae31",
   "metadata": {},
   "source": [
    "### Query to find IDs of all combinations of a pair of tokens"
   ]
  },
  {
   "cell_type": "code",
   "execution_count": 38,
   "id": "56fc4eba",
   "metadata": {},
   "outputs": [
    {
     "data": {
      "text/plain": [
       "['0x4330e23e6fb28882060c8a125c4f1d2400b7b2d9',\n",
       " '0xd3d2e2692501a5c9ca623199d38826e513033a17',\n",
       " '0x7c498db5cb65b398e118eda7e71ac7306e0e2923',\n",
       " '0x63ff582264aa89a1f870564985c0c871979a898e',\n",
       " '0x6c7e7a1706ad680fefeb470371e0871cc6d7b19a',\n",
       " '0xa47ea5b74b6879c52250794376443eebd8a17bb3',\n",
       " '0x822130268fba14006b92c4d13b8b6fe3196ea2f0',\n",
       " '0xf615e9d45b998f605a5c1e27839c46670717a931',\n",
       " '0x5e0c41ec47d6675560b8608d8779ba949c5d9153',\n",
       " '0xf05a0ec162a03585ab06a5e112eda9b0348d1da0',\n",
       " '0xec2915ad1e9ac5cf68dda0f3ebdafbc8b8f69bea',\n",
       " '0x5709341ce31136276108a38c1901a90e19ac1f79']"
      ]
     },
     "execution_count": 38,
     "metadata": {},
     "output_type": "execute_result"
    }
   ],
   "source": [
    "def get_pair_ids(token_list1, token_list2, token_sym1, token_sym2):\n",
    "    '''Request pair IDs of all combinations of a pair of tokens'''\n",
    "    \n",
    "    pair_list = []\n",
    "    response = ''\n",
    "    \n",
    "    query = \"\"\"query($a: String!, $b: String!) \n",
    "      {\n",
    "      pairs(where: {token0: $a, token1: $b })\n",
    "        {\n",
    "        id\n",
    "        }\n",
    "      }\"\"\"\n",
    "\n",
    "    for token1 in token_list1:\n",
    "        for token2 in token_list2:\n",
    "            \n",
    "            variables = {\"a\": token1, \"b\": token2}\n",
    "            response = _send_request(query, variables)\n",
    "            response = _sanitize(_sanitize(response, 'data'), 'pairs')\n",
    "            \n",
    "            if len(response) != 0:\n",
    "                pair_list.append(_sanitize(response[0], 'id'))\n",
    "    \n",
    "    return pair_list\n",
    "\n",
    "\n",
    "get_pair_ids(uni_list, weth_list, 'uni', 'weth')"
   ]
  },
  {
   "cell_type": "markdown",
   "id": "0d2df32d",
   "metadata": {},
   "source": [
    "### Query to find recent swaps between the pairs (by their pair IDs)"
   ]
  },
  {
   "cell_type": "code",
   "execution_count": 39,
   "id": "2996b7d7",
   "metadata": {},
   "outputs": [],
   "source": [
    "def find_recent_swaps(pair_list):\n",
    "    '''Query 1k recent swaps for a given list of pair IDs'''\n",
    "    \n",
    "    # the number of swaps is hardcoded in the query:\n",
    "    query = \"\"\"query($a: String!)\n",
    "    {\n",
    "    swaps(first:1000, orderBy: timestamp, orderDirection: desc, where:{ pair: $a }) \n",
    "    {\n",
    "        pair {\n",
    "          reserveUSD\n",
    "          id\n",
    "        }\n",
    "        amount0In\n",
    "        amount0Out\n",
    "        amount1In\n",
    "        amount1Out\n",
    "        timestamp\n",
    "        amountUSD\n",
    "    }\n",
    "    }\n",
    "    \"\"\"\n",
    "    \n",
    "    swaps = pd.DataFrame()\n",
    "    \n",
    "    for pair in pair_list:\n",
    "        variables = {\"a\": pair}\n",
    "        response = _send_request(query, variables)\n",
    "        swaps = swaps.append(_sanitize(_sanitize(response, 'data'), 'swaps'), ignore_index=True)\n",
    "        \n",
    "    return swaps\n",
    "\n",
    "\n",
    "swaps = find_recent_swaps(pair_list)"
   ]
  },
  {
   "cell_type": "markdown",
   "id": "92beef74",
   "metadata": {},
   "source": [
    "### Data cleaning and plotting"
   ]
  },
  {
   "cell_type": "code",
   "execution_count": 40,
   "id": "90b30aab",
   "metadata": {},
   "outputs": [
    {
     "data": {
      "text/html": [
       "<div>\n",
       "<style scoped>\n",
       "    .dataframe tbody tr th:only-of-type {\n",
       "        vertical-align: middle;\n",
       "    }\n",
       "\n",
       "    .dataframe tbody tr th {\n",
       "        vertical-align: top;\n",
       "    }\n",
       "\n",
       "    .dataframe thead th {\n",
       "        text-align: right;\n",
       "    }\n",
       "</style>\n",
       "<table border=\"1\" class=\"dataframe\">\n",
       "  <thead>\n",
       "    <tr style=\"text-align: right;\">\n",
       "      <th></th>\n",
       "      <th>BASE CURRENCY QUANTITY TRADED</th>\n",
       "      <th>QUOTE CURRENCY QUANTITY TRADED</th>\n",
       "      <th>FREQ</th>\n",
       "      <th>VOLUME IN USD</th>\n",
       "      <th>POOL_ID</th>\n",
       "      <th>LIQUIDITY_IN_POOL</th>\n",
       "      <th>time Stamp</th>\n",
       "    </tr>\n",
       "  </thead>\n",
       "  <tbody>\n",
       "    <tr>\n",
       "      <th>0</th>\n",
       "      <td>5.50970290763971213</td>\n",
       "      <td>0.08</td>\n",
       "      <td>BUY</td>\n",
       "      <td>30.55308544225965789904832090849591</td>\n",
       "      <td>0x4330e23e6fb28882060c8a125c4f1d2400b7b2d9</td>\n",
       "      <td>0.00000000000009270166726518542246770840448501383</td>\n",
       "      <td>2020-09-19 01:31:08</td>\n",
       "    </tr>\n",
       "    <tr>\n",
       "      <th>1</th>\n",
       "      <td>15</td>\n",
       "      <td>0.208334881832740216</td>\n",
       "      <td>BUY</td>\n",
       "      <td>80.60500517371023368012414053493041</td>\n",
       "      <td>0x4330e23e6fb28882060c8a125c4f1d2400b7b2d9</td>\n",
       "      <td>0.00000000000009270166726518542246770840448501383</td>\n",
       "      <td>2020-09-19 01:14:47</td>\n",
       "    </tr>\n",
       "    <tr>\n",
       "      <th>2</th>\n",
       "      <td>16.946378445231014027</td>\n",
       "      <td>0.22</td>\n",
       "      <td>BUY</td>\n",
       "      <td>85.35431466111416644824963917718701</td>\n",
       "      <td>0x4330e23e6fb28882060c8a125c4f1d2400b7b2d9</td>\n",
       "      <td>0.00000000000009270166726518542246770840448501383</td>\n",
       "      <td>2020-09-19 00:46:53</td>\n",
       "    </tr>\n",
       "    <tr>\n",
       "      <th>3</th>\n",
       "      <td>10</td>\n",
       "      <td>0.122817431887499233</td>\n",
       "      <td>BUY</td>\n",
       "      <td>47.290749463598840450431466394341</td>\n",
       "      <td>0x4330e23e6fb28882060c8a125c4f1d2400b7b2d9</td>\n",
       "      <td>0.00000000000009270166726518542246770840448501383</td>\n",
       "      <td>2020-09-19 00:46:04</td>\n",
       "    </tr>\n",
       "    <tr>\n",
       "      <th>4</th>\n",
       "      <td>8.514535129189000237</td>\n",
       "      <td>0.030814729043874558</td>\n",
       "      <td>SELL</td>\n",
       "      <td>84.47110311523129527541151444777806</td>\n",
       "      <td>0xd3d2e2692501a5c9ca623199d38826e513033a17</td>\n",
       "      <td>35103115.36224916245174609390303979</td>\n",
       "      <td>2022-02-19 23:21:17</td>\n",
       "    </tr>\n",
       "    <tr>\n",
       "      <th>...</th>\n",
       "      <td>...</td>\n",
       "      <td>...</td>\n",
       "      <td>...</td>\n",
       "      <td>...</td>\n",
       "      <td>...</td>\n",
       "      <td>...</td>\n",
       "      <td>...</td>\n",
       "    </tr>\n",
       "    <tr>\n",
       "      <th>1119</th>\n",
       "      <td>2000</td>\n",
       "      <td>1.071431896051017075</td>\n",
       "      <td>SELL</td>\n",
       "      <td>401.5593345812715054683210969378154</td>\n",
       "      <td>0x5709341ce31136276108a38c1901a90e19ac1f79</td>\n",
       "      <td>0.00000000000002355424209292357157384813377270777</td>\n",
       "      <td>2020-09-17 00:49:35</td>\n",
       "    </tr>\n",
       "    <tr>\n",
       "      <th>1120</th>\n",
       "      <td>1646.918584924192367448</td>\n",
       "      <td>0.916209672879891649</td>\n",
       "      <td>SELL</td>\n",
       "      <td>343.9506948745968709848058788226527</td>\n",
       "      <td>0x5709341ce31136276108a38c1901a90e19ac1f79</td>\n",
       "      <td>0.00000000000002355424209292357157384813377270777</td>\n",
       "      <td>2020-09-17 00:49:35</td>\n",
       "    </tr>\n",
       "    <tr>\n",
       "      <th>1121</th>\n",
       "      <td>175.95800172347654216</td>\n",
       "      <td>0.1</td>\n",
       "      <td>BUY</td>\n",
       "      <td>37.73058164433374422552063883292227</td>\n",
       "      <td>0x5709341ce31136276108a38c1901a90e19ac1f79</td>\n",
       "      <td>0.00000000000002355424209292357157384813377270777</td>\n",
       "      <td>2020-09-17 00:48:56</td>\n",
       "    </tr>\n",
       "    <tr>\n",
       "      <th>1122</th>\n",
       "      <td>4000</td>\n",
       "      <td>2.354760159498772741</td>\n",
       "      <td>SELL</td>\n",
       "      <td>868.850932245314331590806427454496</td>\n",
       "      <td>0x5709341ce31136276108a38c1901a90e19ac1f79</td>\n",
       "      <td>0.00000000000002355424209292357157384813377270777</td>\n",
       "      <td>2020-09-17 00:47:40</td>\n",
       "    </tr>\n",
       "    <tr>\n",
       "      <th>1123</th>\n",
       "      <td>1646.918584924192367448</td>\n",
       "      <td>1</td>\n",
       "      <td>BUY</td>\n",
       "      <td>378.9543369286342687678903467415415</td>\n",
       "      <td>0x5709341ce31136276108a38c1901a90e19ac1f79</td>\n",
       "      <td>0.00000000000002355424209292357157384813377270777</td>\n",
       "      <td>2020-09-17 00:45:05</td>\n",
       "    </tr>\n",
       "  </tbody>\n",
       "</table>\n",
       "<p>1124 rows × 7 columns</p>\n",
       "</div>"
      ],
      "text/plain": [
       "     BASE CURRENCY QUANTITY TRADED QUOTE CURRENCY QUANTITY TRADED  FREQ  \\\n",
       "0              5.50970290763971213                           0.08   BUY   \n",
       "1                               15           0.208334881832740216   BUY   \n",
       "2            16.946378445231014027                           0.22   BUY   \n",
       "3                               10           0.122817431887499233   BUY   \n",
       "4             8.514535129189000237           0.030814729043874558  SELL   \n",
       "...                            ...                            ...   ...   \n",
       "1119                          2000           1.071431896051017075  SELL   \n",
       "1120       1646.918584924192367448           0.916209672879891649  SELL   \n",
       "1121         175.95800172347654216                            0.1   BUY   \n",
       "1122                          4000           2.354760159498772741  SELL   \n",
       "1123       1646.918584924192367448                              1   BUY   \n",
       "\n",
       "                            VOLUME IN USD  \\\n",
       "0     30.55308544225965789904832090849591   \n",
       "1     80.60500517371023368012414053493041   \n",
       "2     85.35431466111416644824963917718701   \n",
       "3       47.290749463598840450431466394341   \n",
       "4     84.47110311523129527541151444777806   \n",
       "...                                   ...   \n",
       "1119  401.5593345812715054683210969378154   \n",
       "1120  343.9506948745968709848058788226527   \n",
       "1121  37.73058164433374422552063883292227   \n",
       "1122   868.850932245314331590806427454496   \n",
       "1123  378.9543369286342687678903467415415   \n",
       "\n",
       "                                         POOL_ID  \\\n",
       "0     0x4330e23e6fb28882060c8a125c4f1d2400b7b2d9   \n",
       "1     0x4330e23e6fb28882060c8a125c4f1d2400b7b2d9   \n",
       "2     0x4330e23e6fb28882060c8a125c4f1d2400b7b2d9   \n",
       "3     0x4330e23e6fb28882060c8a125c4f1d2400b7b2d9   \n",
       "4     0xd3d2e2692501a5c9ca623199d38826e513033a17   \n",
       "...                                          ...   \n",
       "1119  0x5709341ce31136276108a38c1901a90e19ac1f79   \n",
       "1120  0x5709341ce31136276108a38c1901a90e19ac1f79   \n",
       "1121  0x5709341ce31136276108a38c1901a90e19ac1f79   \n",
       "1122  0x5709341ce31136276108a38c1901a90e19ac1f79   \n",
       "1123  0x5709341ce31136276108a38c1901a90e19ac1f79   \n",
       "\n",
       "                                      LIQUIDITY_IN_POOL          time Stamp  \n",
       "0     0.00000000000009270166726518542246770840448501383 2020-09-19 01:31:08  \n",
       "1     0.00000000000009270166726518542246770840448501383 2020-09-19 01:14:47  \n",
       "2     0.00000000000009270166726518542246770840448501383 2020-09-19 00:46:53  \n",
       "3     0.00000000000009270166726518542246770840448501383 2020-09-19 00:46:04  \n",
       "4                   35103115.36224916245174609390303979 2022-02-19 23:21:17  \n",
       "...                                                 ...                 ...  \n",
       "1119  0.00000000000002355424209292357157384813377270777 2020-09-17 00:49:35  \n",
       "1120  0.00000000000002355424209292357157384813377270777 2020-09-17 00:49:35  \n",
       "1121  0.00000000000002355424209292357157384813377270777 2020-09-17 00:48:56  \n",
       "1122  0.00000000000002355424209292357157384813377270777 2020-09-17 00:47:40  \n",
       "1123  0.00000000000002355424209292357157384813377270777 2020-09-17 00:45:05  \n",
       "\n",
       "[1124 rows x 7 columns]"
      ]
     },
     "execution_count": 40,
     "metadata": {},
     "output_type": "execute_result"
    }
   ],
   "source": [
    "def data_cleaning(df):\n",
    "    ''''''\n",
    "    pool_id = []\n",
    "    liquidity = []\n",
    "    \n",
    "    for item in range(len(df)):\n",
    "        \n",
    "      pool_id.append(_sanitize(_sanitize(_sanitize(df, 'pair'), item), 'id'))\n",
    "      liquidity.append(_sanitize(_sanitize(_sanitize(df, 'pair'), item), 'reserveUSD'))\n",
    "        \n",
    "    df[\"TIMESTAMP\"] = df[\"timestamp\"]\n",
    "    df['BASE CURRENCY QUANTITY TRADED'] = np.where((df['amount0In'] > df['amount0Out']), df['amount0In'], df['amount0Out'])\n",
    "    df['QUOTE CURRENCY QUANTITY TRADED'] = np.where((df['amount1In'] > df['amount1Out']), df['amount1In'], df['amount1Out'])\n",
    "    df['FREQ'] = np.where((df['amount0In'] > df['amount0Out']), \"SELL\", \"BUY\")\n",
    "    df['VOLUME IN USD'] = df[\"amountUSD\"]\n",
    "    df = df.assign(POOL_ID = pool_id, LIQUIDITY_IN_POOL = liquidity)\n",
    "    \n",
    "    del df['amountUSD'],df[\"amount1Out\"],df[\"pair\"],df[\"timestamp\"], df['amount0In'],df['amount0Out'],df['amount1In']\n",
    "    df.astype({'BASE CURRENCY QUANTITY TRADED':float,'QUOTE CURRENCY QUANTITY TRADED':float,'VOLUME IN USD':float})\n",
    "    df[\"time Stamp\"] = pd.to_datetime(df['TIMESTAMP'], unit='s')\n",
    "    del df[\"TIMESTAMP\"]\n",
    "    \n",
    "    return df\n",
    "\n",
    "\n",
    "data_cleaning(swaps)"
   ]
  },
  {
   "cell_type": "code",
   "execution_count": 41,
   "id": "20c284ce",
   "metadata": {},
   "outputs": [
    {
     "data": {
      "image/png": "[encoded data removed]",
      "text/plain": [
       "<Figure size 360x360 with 1 Axes>"
      ]
     },
     "metadata": {
      "needs_background": "light"
     },
     "output_type": "display_data"
    }
   ],
   "source": [
    "def plot_buy_or_sell(df):\n",
    "    plt.figure(figsize=(5,5))\n",
    "    ax = sns.countplot(x=\"FREQ\", data=df)\n",
    "    plt.show()\n",
    "    \n",
    "plot_buy_or_sell(swaps)"
   ]
  }
 ],
 "metadata": {
  "kernelspec": {
   "display_name": "Python 3 (ipykernel)",
   "language": "python",
   "name": "python3"
  },
  "language_info": {
   "codemirror_mode": {
    "name": "ipython",
    "version": 3
   },
   "file_extension": ".py",
   "mimetype": "text/x-python",
   "name": "python",
   "nbconvert_exporter": "python",
   "pygments_lexer": "ipython3",
   "version": "3.9.2"
  }
 },
 "nbformat": 4,
 "nbformat_minor": 5
}
